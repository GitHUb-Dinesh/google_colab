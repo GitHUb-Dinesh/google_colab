{
  "nbformat": 4,
  "nbformat_minor": 0,
  "metadata": {
    "colab": {
      "name": "Cat&DogClassifier.ipynb",
      "provenance": [],
      "collapsed_sections": [],
      "include_colab_link": true
    },
    "kernelspec": {
      "name": "python3",
      "display_name": "Python 3"
    },
    "language_info": {
      "name": "python"
    },
    "accelerator": "GPU"
  },
  "cells": [
    {
      "cell_type": "markdown",
      "metadata": {
        "id": "view-in-github",
        "colab_type": "text"
      },
      "source": [
        "<a href=\"https://colab.research.google.com/github/GitHUb-Dinesh/google_colab/blob/main/Cat%26DogClassifier.ipynb\" target=\"_parent\"><img src=\"https://colab.research.google.com/assets/colab-badge.svg\" alt=\"Open In Colab\"/></a>"
      ]
    },
    {
      "cell_type": "code",
      "metadata": {
        "id": "kx7fTNJf-_M4"
      },
      "source": [
        "import cv2\n",
        "import sys\n",
        "import numpy as np\n",
        "import random\n",
        "import os\n",
        "import pickle\n",
        "import tensorflow as tf\n"
      ],
      "execution_count": 4,
      "outputs": []
    },
    {
      "cell_type": "code",
      "metadata": {
        "colab": {
          "base_uri": "https://localhost:8080/"
        },
        "id": "8bceicA2t3sc",
        "outputId": "79292192-1af1-4ff8-a378-2e9045270026"
      },
      "source": [
        "from google.colab import drive\n",
        "drive.mount('/content/drive')"
      ],
      "execution_count": null,
      "outputs": [
        {
          "output_type": "stream",
          "text": [
            "Mounted at /content/drive\n"
          ],
          "name": "stdout"
        }
      ]
    },
    {
      "cell_type": "code",
      "metadata": {
        "id": "iMvK9gWs_GCk"
      },
      "source": [
        "\n",
        "path='/content/drive/MyDrive/Cat&DogClasifier'\n"
      ],
      "execution_count": null,
      "outputs": []
    },
    {
      "cell_type": "code",
      "metadata": {
        "id": "P308V1ppAprt"
      },
      "source": [
        "os.listdir(path)"
      ],
      "execution_count": null,
      "outputs": []
    },
    {
      "cell_type": "code",
      "metadata": {
        "id": "IClFQ7nE_YTO"
      },
      "source": [
        "path=os.path.join(path,os.listdir(path)[5])\n",
        "os.listdir(path)\n",
        "path=os.path.join(path,os.listdir(path)[1])\n",
        "path\n"
      ],
      "execution_count": null,
      "outputs": []
    },
    {
      "cell_type": "code",
      "metadata": {
        "id": "i56FI5BuAXkb"
      },
      "source": [
        "list_image_label=[]\n",
        "image_size=(200,200)"
      ],
      "execution_count": null,
      "outputs": []
    },
    {
      "cell_type": "code",
      "metadata": {
        "id": "gqPYJXoPC2gR"
      },
      "source": [
        "for i,item in enumerate(os.listdir(path)) :\n",
        "    path1=os.path.join(path,item)\n",
        "    a,_,_=item.split('.')\n",
        "    img=cv2.imread(path1)\n",
        "    #cv2.imshow('img', img)\n",
        "    #print(type(img))\n",
        "    img_resized=cv2.resize(img,image_size)\n",
        "    #cv2.imshow('img',img)\n",
        "    if a=='cat':\n",
        "        list_image_label.append([img_resized,0])#0 for cat\n",
        "    else:\n",
        "        list_image_label.append([img_resized,1])#1 for dog\n",
        "    if(i%50==0):\n",
        "      print('reached',i/50)"
      ],
      "execution_count": null,
      "outputs": []
    },
    {
      "cell_type": "code",
      "metadata": {
        "id": "eEjLpTKrDD56"
      },
      "source": [
        "random.shuffle(list_image_label)\n",
        "list_image_label=np.array(list_image_label)\n",
        "l1=[]\n",
        "l2=[]\n",
        "for item in list_image_label:\n",
        "  l1.append(item[0])\n",
        "  l2.append(item[1])\n",
        "X=np.array(l1)\n",
        "Y=np.array(l2)\n",
        "#X=np.array([item[0] for item in list_image_label])\n",
        "#Y=np.array([item[1] for item in list_image_label])\n",
        "print(len(X),len(Y))"
      ],
      "execution_count": null,
      "outputs": []
    },
    {
      "cell_type": "code",
      "metadata": {
        "id": "qsIjT37ODDt4"
      },
      "source": [
        "\n",
        "pickle.dump(X,open('/content/drive/MyDrive/Cat&DogClasifier/trainX','wb'))\n",
        "pickle.dump(Y,open('/content/drive/MyDrive/Cat&DogClasifier/trainY','wb'))\n"
      ],
      "execution_count": null,
      "outputs": []
    },
    {
      "cell_type": "code",
      "metadata": {
        "id": "l9Q104tkaM8v"
      },
      "source": [
        "import pickle\n",
        "X=pickle.load(open('/content/drive/MyDrive/Cat&DogClasifier/trainX','rb'))\n",
        "Y=pickle.load(open('/content/drive/MyDrive/Cat&DogClasifier/trainY','rb'))\n"
      ],
      "execution_count": 1,
      "outputs": []
    },
    {
      "cell_type": "markdown",
      "metadata": {
        "id": "QEsOu9L04dhJ"
      },
      "source": [
        ""
      ]
    },
    {
      "cell_type": "code",
      "metadata": {
        "id": "XJR1e25wimGe"
      },
      "source": [
        "#X=X/255  #feature scaling\n",
        "import tensorflow as tf\n",
        "X=tf.cast(X,tf.float16)"
      ],
      "execution_count": 2,
      "outputs": []
    },
    {
      "cell_type": "code",
      "metadata": {
        "id": "YdDVqsq43fD8"
      },
      "source": [
        "pickle.dump(X,open('/content/drive/MyDrive/Cat&DogClasifier/trainXZDataFloat16','wb'))\n",
        "X=pickle.load(open('/content/drive/MyDrive/Cat&DogClasifier/trainXZDataFloat16','rb'))"
      ],
      "execution_count": null,
      "outputs": []
    },
    {
      "cell_type": "code",
      "metadata": {
        "id": "AIct93F8Ox7o"
      },
      "source": [
        "import keras\n",
        "import tensorflow as tf\n",
        "from keras.models import Sequential"
      ],
      "execution_count": 5,
      "outputs": []
    },
    {
      "cell_type": "code",
      "metadata": {
        "id": "_IIVMhQ-Q1UW"
      },
      "source": [
        "from keras.layers import Conv2D,MaxPooling2D,Flatten,Dense,InputLayer"
      ],
      "execution_count": 6,
      "outputs": []
    },
    {
      "cell_type": "code",
      "metadata": {
        "id": "c-Y5nBzYUiEv"
      },
      "source": [
        "model = Sequential()\n",
        "#model.add(InputLayer(shape=(200, 200, 3)))  # 200x200 RGB images\n",
        "model.add(Conv2D(64,(5,5),activation='relu'))\n",
        "model.add(MaxPooling2D((2,2)))\n",
        "\n",
        "model.add(Conv2D(64,(5,5),activation='relu'))\n",
        "model.add(MaxPooling2D((2,2)))\n",
        "\n",
        "model.add(Conv2D(64,(5,5),activation='relu'))\n",
        "model.add(MaxPooling2D((2,2)))\n",
        "\n",
        "model.add(Flatten())\n",
        "\n",
        "\n"
      ],
      "execution_count": 7,
      "outputs": []
    },
    {
      "cell_type": "code",
      "metadata": {
        "id": "4kJWlkMVYQd5",
        "colab": {
          "base_uri": "https://localhost:8080/"
        },
        "outputId": "38e95b97-5984-47ce-c3b8-d31ef8ec7792"
      },
      "source": [
        "s=X.shape\n",
        "s"
      ],
      "execution_count": 8,
      "outputs": [
        {
          "output_type": "execute_result",
          "data": {
            "text/plain": [
              "TensorShape([25386, 200, 200, 3])"
            ]
          },
          "metadata": {
            "tags": []
          },
          "execution_count": 8
        }
      ]
    },
    {
      "cell_type": "code",
      "metadata": {
        "id": "v1KuFQxQX5zJ"
      },
      "source": [
        "model.add(Dense(128,input_shape=s[1:], activation='relu'))"
      ],
      "execution_count": 9,
      "outputs": []
    },
    {
      "cell_type": "code",
      "metadata": {
        "id": "z6-bokzYXNyA"
      },
      "source": [
        "model.add(Dense(2,activation='softmax'))"
      ],
      "execution_count": 10,
      "outputs": []
    },
    {
      "cell_type": "code",
      "metadata": {
        "id": "s_FQ4kLPXDie"
      },
      "source": [
        "#updations during back propagation\n",
        "model.compile(optimizer='adam',loss='sparse_categorical_crossentropy',metrics=['accuracy'])"
      ],
      "execution_count": 11,
      "outputs": []
    },
    {
      "cell_type": "code",
      "metadata": {
        "id": "0eUs7LZ9xqDZ",
        "colab": {
          "base_uri": "https://localhost:8080/"
        },
        "outputId": "b2a0aba4-2b72-4983-8efe-d26c8205dee7"
      },
      "source": [
        "model.fit(X,Y,batch_size=5,epochs=5,verbose='auto',validation_split=0.1)"
      ],
      "execution_count": 12,
      "outputs": [
        {
          "output_type": "stream",
          "text": [
            "Epoch 1/5\n",
            "4570/4570 [==============================] - 129s 17ms/step - loss: 2.3865 - accuracy: 0.5244 - val_loss: 0.6926 - val_accuracy: 0.4990\n",
            "Epoch 2/5\n",
            "4570/4570 [==============================] - 80s 18ms/step - loss: 0.6962 - accuracy: 0.5073 - val_loss: 0.6934 - val_accuracy: 0.4982\n",
            "Epoch 3/5\n",
            "4570/4570 [==============================] - 79s 17ms/step - loss: 1.0532 - accuracy: 0.5160 - val_loss: 0.6934 - val_accuracy: 0.4982\n",
            "Epoch 4/5\n",
            "4570/4570 [==============================] - 79s 17ms/step - loss: 0.6931 - accuracy: 0.5066 - val_loss: 0.6933 - val_accuracy: 0.4982\n",
            "Epoch 5/5\n",
            "4570/4570 [==============================] - 79s 17ms/step - loss: 0.6931 - accuracy: 0.5118 - val_loss: 0.6943 - val_accuracy: 0.4982\n"
          ],
          "name": "stdout"
        },
        {
          "output_type": "execute_result",
          "data": {
            "text/plain": [
              "<keras.callbacks.History at 0x7f5b18109490>"
            ]
          },
          "metadata": {
            "tags": []
          },
          "execution_count": 12
        }
      ]
    },
    {
      "cell_type": "code",
      "metadata": {
        "colab": {
          "base_uri": "https://localhost:8080/"
        },
        "id": "X0TtoCdCSFVW",
        "outputId": "fcc52bdd-0329-4f38-b0fd-3706da48a50e"
      },
      "source": [
        "path='/'\n",
        "os.listdir(path)"
      ],
      "execution_count": 13,
      "outputs": [
        {
          "output_type": "execute_result",
          "data": {
            "text/plain": [
              "['mnt',\n",
              " 'media',\n",
              " 'proc',\n",
              " 'var',\n",
              " 'opt',\n",
              " 'etc',\n",
              " 'bin',\n",
              " 'tmp',\n",
              " 'usr',\n",
              " 'lib',\n",
              " 'home',\n",
              " 'sbin',\n",
              " 'dev',\n",
              " 'boot',\n",
              " 'sys',\n",
              " 'srv',\n",
              " 'lib64',\n",
              " 'run',\n",
              " 'root',\n",
              " 'content',\n",
              " 'images cat.jpg',\n",
              " 'download cat.jpg',\n",
              " 'downloadCat1.jpg',\n",
              " 'dog2.jpg',\n",
              " 'downloaddog.jpg',\n",
              " 'images.jpg',\n",
              " 'images (1).jpg',\n",
              " 'downloadcat.jpg',\n",
              " '.dockerenv',\n",
              " 'datalab',\n",
              " 'tools',\n",
              " 'tensorflow-1.15.2',\n",
              " 'lib32']"
            ]
          },
          "metadata": {
            "tags": []
          },
          "execution_count": 13
        }
      ]
    },
    {
      "cell_type": "code",
      "metadata": {
        "id": "628BzHqr1hya"
      },
      "source": [
        "\n",
        "lis=[]\n",
        "for i,item in enumerate(os.listdir(path)):\n",
        "  \n",
        "  if i>=20 and i<28:\n",
        "    path1=os.path.join(path,item)\n",
        "    image=cv2.imread(path1)\n",
        "    image=cv2.resize(image,(200,200))\n",
        "    lis.append(image)\n",
        "lis=np.array(lis)\n",
        "lis=tf.cast(lis,tf.float32)\n",
        "\n"
      ],
      "execution_count": 14,
      "outputs": []
    },
    {
      "cell_type": "code",
      "metadata": {
        "id": "ZW-2BynIG5Jc",
        "colab": {
          "base_uri": "https://localhost:8080/"
        },
        "outputId": "e9f3ccd4-d419-47a6-dd06-a311eb529ece"
      },
      "source": [
        "model.summary()"
      ],
      "execution_count": 15,
      "outputs": [
        {
          "output_type": "stream",
          "text": [
            "Model: \"sequential\"\n",
            "_________________________________________________________________\n",
            "Layer (type)                 Output Shape              Param #   \n",
            "=================================================================\n",
            "conv2d (Conv2D)              (None, 196, 196, 64)      4864      \n",
            "_________________________________________________________________\n",
            "max_pooling2d (MaxPooling2D) (None, 98, 98, 64)        0         \n",
            "_________________________________________________________________\n",
            "conv2d_1 (Conv2D)            (None, 94, 94, 64)        102464    \n",
            "_________________________________________________________________\n",
            "max_pooling2d_1 (MaxPooling2 (None, 47, 47, 64)        0         \n",
            "_________________________________________________________________\n",
            "conv2d_2 (Conv2D)            (None, 43, 43, 64)        102464    \n",
            "_________________________________________________________________\n",
            "max_pooling2d_2 (MaxPooling2 (None, 21, 21, 64)        0         \n",
            "_________________________________________________________________\n",
            "flatten (Flatten)            (None, 28224)             0         \n",
            "_________________________________________________________________\n",
            "dense (Dense)                (None, 128)               3612800   \n",
            "_________________________________________________________________\n",
            "dense_1 (Dense)              (None, 2)                 258       \n",
            "=================================================================\n",
            "Total params: 3,822,850\n",
            "Trainable params: 3,822,850\n",
            "Non-trainable params: 0\n",
            "_________________________________________________________________\n"
          ],
          "name": "stdout"
        }
      ]
    },
    {
      "cell_type": "code",
      "metadata": {
        "colab": {
          "base_uri": "https://localhost:8080/"
        },
        "id": "g6Jm15uNK5gx",
        "outputId": "a8d1f634-fde2-4362-f420-34a13f436134"
      },
      "source": [
        "model(lis)"
      ],
      "execution_count": 16,
      "outputs": [
        {
          "output_type": "execute_result",
          "data": {
            "text/plain": [
              "<tf.Tensor: shape=(8, 2), dtype=float32, numpy=\n",
              "array([[0.52187276, 0.47812724],\n",
              "       [0.52187276, 0.47812724],\n",
              "       [0.52187276, 0.47812724],\n",
              "       [0.52187276, 0.47812724],\n",
              "       [0.52187276, 0.47812724],\n",
              "       [0.52187276, 0.47812724],\n",
              "       [0.52187276, 0.47812724],\n",
              "       [0.52187276, 0.47812724]], dtype=float32)>"
            ]
          },
          "metadata": {
            "tags": []
          },
          "execution_count": 16
        }
      ]
    }
  ]
}