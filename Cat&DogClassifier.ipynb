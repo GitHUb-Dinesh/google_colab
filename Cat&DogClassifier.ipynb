{
  "nbformat": 4,
  "nbformat_minor": 0,
  "metadata": {
    "colab": {
      "name": "Cat&DogClassifier.ipynb",
      "provenance": [],
      "collapsed_sections": [],
      "include_colab_link": true
    },
    "kernelspec": {
      "name": "python3",
      "display_name": "Python 3"
    },
    "language_info": {
      "name": "python"
    },
    "accelerator": "GPU"
  },
  "cells": [
    {
      "cell_type": "markdown",
      "metadata": {
        "id": "view-in-github",
        "colab_type": "text"
      },
      "source": [
        "<a href=\"https://colab.research.google.com/github/GitHUb-Dinesh/google_colab/blob/main/Cat%26DogClassifier.ipynb\" target=\"_parent\"><img src=\"https://colab.research.google.com/assets/colab-badge.svg\" alt=\"Open In Colab\"/></a>"
      ]
    },
    {
      "cell_type": "code",
      "metadata": {
        "id": "kx7fTNJf-_M4"
      },
      "source": [
        "import cv2\n",
        "import sys\n",
        "import numpy as np\n",
        "import random\n",
        "import os\n",
        "import pickle\n",
        "import tensorflow as tf\n"
      ],
      "execution_count": 16,
      "outputs": []
    },
    {
      "cell_type": "code",
      "metadata": {
        "colab": {
          "base_uri": "https://localhost:8080/"
        },
        "id": "8bceicA2t3sc",
        "outputId": "79292192-1af1-4ff8-a378-2e9045270026"
      },
      "source": [
        "from google.colab import drive\n",
        "drive.mount('/content/drive')"
      ],
      "execution_count": 3,
      "outputs": [
        {
          "output_type": "stream",
          "text": [
            "Mounted at /content/drive\n"
          ],
          "name": "stdout"
        }
      ]
    },
    {
      "cell_type": "code",
      "metadata": {
        "id": "iMvK9gWs_GCk"
      },
      "source": [
        "\n",
        "path='/content/drive/MyDrive/Cat&DogClasifier'\n"
      ],
      "execution_count": null,
      "outputs": []
    },
    {
      "cell_type": "code",
      "metadata": {
        "id": "P308V1ppAprt"
      },
      "source": [
        "os.listdir(path)"
      ],
      "execution_count": null,
      "outputs": []
    },
    {
      "cell_type": "code",
      "metadata": {
        "id": "IClFQ7nE_YTO"
      },
      "source": [
        "path=os.path.join(path,os.listdir(path)[5])\n",
        "os.listdir(path)\n",
        "path=os.path.join(path,os.listdir(path)[1])\n",
        "path\n"
      ],
      "execution_count": null,
      "outputs": []
    },
    {
      "cell_type": "code",
      "metadata": {
        "id": "i56FI5BuAXkb"
      },
      "source": [
        "list_image_label=[]\n",
        "image_size=(200,200)"
      ],
      "execution_count": null,
      "outputs": []
    },
    {
      "cell_type": "code",
      "metadata": {
        "id": "gqPYJXoPC2gR"
      },
      "source": [
        "for i,item in enumerate(os.listdir(path)) :\n",
        "    path1=os.path.join(path,item)\n",
        "    a,_,_=item.split('.')\n",
        "    img=cv2.imread(path1)\n",
        "    #cv2.imshow('img', img)\n",
        "    #print(type(img))\n",
        "    img_resized=cv2.resize(img,image_size)\n",
        "    #cv2.imshow('img',img)\n",
        "    if a=='cat':\n",
        "        list_image_label.append([img_resized,0])#0 for cat\n",
        "    else:\n",
        "        list_image_label.append([img_resized,1])#1 for dog\n",
        "    if(i%50==0):\n",
        "      print('reached',i/50)"
      ],
      "execution_count": null,
      "outputs": []
    },
    {
      "cell_type": "code",
      "metadata": {
        "id": "eEjLpTKrDD56"
      },
      "source": [
        "random.shuffle(list_image_label)\n",
        "list_image_label=np.array(list_image_label)\n",
        "l1=[]\n",
        "l2=[]\n",
        "for item in list_image_label:\n",
        "  l1.append(item[0])\n",
        "  l2.append(item[1])\n",
        "X=np.array(l1)\n",
        "Y=np.array(l2)\n",
        "#X=np.array([item[0] for item in list_image_label])\n",
        "#Y=np.array([item[1] for item in list_image_label])\n",
        "print(len(X),len(Y))"
      ],
      "execution_count": null,
      "outputs": []
    },
    {
      "cell_type": "code",
      "metadata": {
        "id": "qsIjT37ODDt4"
      },
      "source": [
        "pickle.dump(X,open('/content/drive/MyDrive/Cat&DogClasifier/trainX','wb'))\n",
        "pickle.dump(Y,open('/content/drive/MyDrive/Cat&DogClasifier/trainY','wb'))\n"
      ],
      "execution_count": null,
      "outputs": []
    },
    {
      "cell_type": "code",
      "metadata": {
        "id": "l9Q104tkaM8v"
      },
      "source": [
        "import pickle\n",
        "X=pickle.load(open('/content/drive/MyDrive/Cat&DogClasifier/trainX','rb'))\n",
        "Y=pickle.load(open('/content/drive/MyDrive/Cat&DogClasifier/trainY','rb'))\n"
      ],
      "execution_count": 1,
      "outputs": []
    },
    {
      "cell_type": "markdown",
      "metadata": {
        "id": "QEsOu9L04dhJ"
      },
      "source": [
        ""
      ]
    },
    {
      "cell_type": "code",
      "metadata": {
        "id": "XJR1e25wimGe"
      },
      "source": [
        "#X=X/255  #feature scaling\n",
        "import tensorflow as tf\n",
        "\n",
        "X=X[12500:]\n",
        "X=tf.cast(X,tf.float32)"
      ],
      "execution_count": 3,
      "outputs": []
    },
    {
      "cell_type": "code",
      "metadata": {
        "id": "YdDVqsq43fD8"
      },
      "source": [
        "pickle.dump(X,open('/content/drive/MyDrive/Cat&DogClasifier/trainXZDataFloat16','wb'))\n",
        "X=pickle.load(open('/content/drive/MyDrive/Cat&DogClasifier/trainXZDataFloat16','rb'))"
      ],
      "execution_count": 4,
      "outputs": []
    },
    {
      "cell_type": "code",
      "metadata": {
        "id": "AIct93F8Ox7o"
      },
      "source": [
        "import keras\n",
        "import tensorflow as tf\n",
        "from keras.models import Sequential"
      ],
      "execution_count": 5,
      "outputs": []
    },
    {
      "cell_type": "code",
      "metadata": {
        "id": "_IIVMhQ-Q1UW"
      },
      "source": [
        "from keras.layers import Conv2D,MaxPooling2D,Flatten,Dense,InputLayer"
      ],
      "execution_count": 6,
      "outputs": []
    },
    {
      "cell_type": "code",
      "metadata": {
        "id": "c-Y5nBzYUiEv"
      },
      "source": [
        "model = Sequential()\n",
        "#model.add(InputLayer(shape=(200, 200, 3)))  # 200x200 RGB images\n",
        "model.add(Conv2D(64,(5,5),activation='relu'))\n",
        "model.add(MaxPooling2D((2,2)))\n",
        "\n",
        "model.add(Conv2D(64,(5,5),activation='relu'))\n",
        "model.add(MaxPooling2D((2,2)))\n",
        "\n",
        "model.add(Conv2D(64,(5,5),activation='relu'))\n",
        "model.add(MaxPooling2D((2,2)))\n",
        "\n",
        "model.add(Flatten())\n",
        "\n",
        "\n"
      ],
      "execution_count": 7,
      "outputs": []
    },
    {
      "cell_type": "code",
      "metadata": {
        "id": "4kJWlkMVYQd5",
        "colab": {
          "base_uri": "https://localhost:8080/"
        },
        "outputId": "265edeaa-6769-4204-bea7-fa14539bec25"
      },
      "source": [
        "s=X.shape\n",
        "s"
      ],
      "execution_count": 9,
      "outputs": [
        {
          "output_type": "execute_result",
          "data": {
            "text/plain": [
              "TensorShape([386, 200, 200, 3])"
            ]
          },
          "metadata": {
            "tags": []
          },
          "execution_count": 9
        }
      ]
    },
    {
      "cell_type": "code",
      "metadata": {
        "id": "v1KuFQxQX5zJ"
      },
      "source": [
        "model.add(Dense(128,input_shape=s[1:], activation='relu'))"
      ],
      "execution_count": 10,
      "outputs": []
    },
    {
      "cell_type": "code",
      "metadata": {
        "id": "z6-bokzYXNyA"
      },
      "source": [
        "model.add(Dense(2,activation='softmax'))"
      ],
      "execution_count": 11,
      "outputs": []
    },
    {
      "cell_type": "code",
      "metadata": {
        "id": "s_FQ4kLPXDie"
      },
      "source": [
        "#updations during back propagation\n",
        "model.compile(optimizer='adam',loss='sparse_categorical_crossentropy',metrics=['accuracy'])"
      ],
      "execution_count": 12,
      "outputs": []
    },
    {
      "cell_type": "code",
      "metadata": {
        "id": "0eUs7LZ9xqDZ",
        "colab": {
          "base_uri": "https://localhost:8080/"
        },
        "outputId": "8958d1f9-2ffb-43e0-c414-71539b1b38c3"
      },
      "source": [
        "model.fit(X,Y,batch_size=5,epochs=3,verbose='auto',validation_split=0.1)"
      ],
      "execution_count": 13,
      "outputs": [
        {
          "output_type": "stream",
          "text": [
            "Epoch 1/3\n",
            "70/70 [==============================] - 52s 31ms/step - loss: 92.9199 - accuracy: 0.5141 - val_loss: 0.7093 - val_accuracy: 0.4359\n",
            "Epoch 2/3\n",
            "70/70 [==============================] - 1s 17ms/step - loss: 0.6719 - accuracy: 0.6548 - val_loss: 0.7043 - val_accuracy: 0.5385\n",
            "Epoch 3/3\n",
            "70/70 [==============================] - 1s 17ms/step - loss: 0.6051 - accuracy: 0.6954 - val_loss: 0.8613 - val_accuracy: 0.5385\n"
          ],
          "name": "stdout"
        },
        {
          "output_type": "execute_result",
          "data": {
            "text/plain": [
              "<keras.callbacks.History at 0x7f648e4cdd10>"
            ]
          },
          "metadata": {
            "tags": []
          },
          "execution_count": 13
        }
      ]
    },
    {
      "cell_type": "code",
      "metadata": {
        "colab": {
          "base_uri": "https://localhost:8080/"
        },
        "id": "X0TtoCdCSFVW",
        "outputId": "f99b5887-17ef-490e-b767-28e52f360d71"
      },
      "source": [
        "path='/'\n",
        "os.listdir(path)"
      ],
      "execution_count": 46,
      "outputs": [
        {
          "output_type": "execute_result",
          "data": {
            "text/plain": [
              "['mnt',\n",
              " 'media',\n",
              " 'proc',\n",
              " 'var',\n",
              " 'opt',\n",
              " 'etc',\n",
              " 'bin',\n",
              " 'tmp',\n",
              " 'usr',\n",
              " 'lib',\n",
              " 'home',\n",
              " 'sbin',\n",
              " 'dev',\n",
              " 'boot',\n",
              " 'sys',\n",
              " 'srv',\n",
              " 'lib64',\n",
              " 'run',\n",
              " 'root',\n",
              " 'content',\n",
              " 'images cat.jpg',\n",
              " 'download cat.jpg',\n",
              " 'downloadCat1.jpg',\n",
              " 'dog2.jpg',\n",
              " 'downloaddog.jpg',\n",
              " 'images.jpg',\n",
              " 'images (1).jpg',\n",
              " 'downloadcat.jpg',\n",
              " '.dockerenv',\n",
              " 'datalab',\n",
              " 'tools',\n",
              " 'tensorflow-1.15.2',\n",
              " 'lib32']"
            ]
          },
          "metadata": {
            "tags": []
          },
          "execution_count": 46
        }
      ]
    },
    {
      "cell_type": "code",
      "metadata": {
        "id": "628BzHqr1hya"
      },
      "source": [
        "\n",
        "lis=[]\n",
        "for i,item in enumerate(os.listdir(path)):\n",
        "  \n",
        "  if i>=20 and i<28:\n",
        "    path1=os.path.join(path,item)\n",
        "    image=cv2.imread(path1)\n",
        "    image=cv2.resize(image,(200,200))\n",
        "    lis.append(image)\n",
        "lis=np.array(lis)\n",
        "lis=tf.cast(lis,tf.float32)\n",
        "\n"
      ],
      "execution_count": 54,
      "outputs": []
    },
    {
      "cell_type": "code",
      "metadata": {
        "id": "ZW-2BynIG5Jc"
      },
      "source": [
        "model.summary()"
      ],
      "execution_count": null,
      "outputs": []
    },
    {
      "cell_type": "code",
      "metadata": {
        "colab": {
          "base_uri": "https://localhost:8080/"
        },
        "id": "g6Jm15uNK5gx",
        "outputId": "a6b87cd0-44a8-4799-8898-6e76db0fe68a"
      },
      "source": [
        "model(lis)"
      ],
      "execution_count": 55,
      "outputs": [
        {
          "output_type": "execute_result",
          "data": {
            "text/plain": [
              "<tf.Tensor: shape=(8, 2), dtype=float32, numpy=\n",
              "array([[0.5100993 , 0.48990077],\n",
              "       [0.5151931 , 0.4848069 ],\n",
              "       [0.5228879 , 0.47711214],\n",
              "       [0.52861416, 0.4713858 ],\n",
              "       [0.5111513 , 0.48884875],\n",
              "       [0.5128596 , 0.48714042],\n",
              "       [0.5178577 , 0.48214233],\n",
              "       [0.5113962 , 0.48860377]], dtype=float32)>"
            ]
          },
          "metadata": {
            "tags": []
          },
          "execution_count": 55
        }
      ]
    }
  ]
}